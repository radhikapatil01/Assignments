{
  "nbformat": 4,
  "nbformat_minor": 0,
  "metadata": {
    "colab": {
      "name": "Iris classification",
      "provenance": []
    },
    "kernelspec": {
      "name": "python3",
      "display_name": "Python 3"
    },
    "language_info": {
      "name": "python"
    }
  },
  "cells": [
    {
      "cell_type": "markdown",
      "source": [
        "Importing the libraries"
      ],
      "metadata": {
        "id": "srEs0cc6TaSD"
      }
    },
    {
      "cell_type": "code",
      "execution_count": 44,
      "metadata": {
        "id": "uuKkV8QeBw8e"
      },
      "outputs": [],
      "source": [
        "import numpy as np\n",
        "import pandas as pd\n",
        "import matplotlib.pyplot as plt"
      ]
    },
    {
      "cell_type": "markdown",
      "source": [
        "Loading the dataset "
      ],
      "metadata": {
        "id": "ZFygVEEeThF6"
      }
    },
    {
      "cell_type": "code",
      "source": [
        "df=pd.read_csv(\"/content/drive/MyDrive/IRIS.csv\")\n",
        "df"
      ],
      "metadata": {
        "colab": {
          "base_uri": "https://localhost:8080/",
          "height": 423
        },
        "id": "h92MCJOu4OAF",
        "outputId": "b790f727-5c90-4f39-b78d-bad846692dd4"
      },
      "execution_count": 45,
      "outputs": [
        {
          "output_type": "execute_result",
          "data": {
            "text/plain": [
              "     sepal_length  sepal_width  petal_length  petal_width         species\n",
              "0             5.1          3.5           1.4          0.2     Iris-setosa\n",
              "1             4.9          3.0           1.4          0.2     Iris-setosa\n",
              "2             4.7          3.2           1.3          0.2     Iris-setosa\n",
              "3             4.6          3.1           1.5          0.2     Iris-setosa\n",
              "4             5.0          3.6           1.4          0.2     Iris-setosa\n",
              "..            ...          ...           ...          ...             ...\n",
              "145           6.7          3.0           5.2          2.3  Iris-virginica\n",
              "146           6.3          2.5           5.0          1.9  Iris-virginica\n",
              "147           6.5          3.0           5.2          2.0  Iris-virginica\n",
              "148           6.2          3.4           5.4          2.3  Iris-virginica\n",
              "149           5.9          3.0           5.1          1.8  Iris-virginica\n",
              "\n",
              "[150 rows x 5 columns]"
            ],
            "text/html": [
              "\n",
              "  <div id=\"df-906ea60b-fbd5-42fa-b13a-0df2e77d2908\">\n",
              "    <div class=\"colab-df-container\">\n",
              "      <div>\n",
              "<style scoped>\n",
              "    .dataframe tbody tr th:only-of-type {\n",
              "        vertical-align: middle;\n",
              "    }\n",
              "\n",
              "    .dataframe tbody tr th {\n",
              "        vertical-align: top;\n",
              "    }\n",
              "\n",
              "    .dataframe thead th {\n",
              "        text-align: right;\n",
              "    }\n",
              "</style>\n",
              "<table border=\"1\" class=\"dataframe\">\n",
              "  <thead>\n",
              "    <tr style=\"text-align: right;\">\n",
              "      <th></th>\n",
              "      <th>sepal_length</th>\n",
              "      <th>sepal_width</th>\n",
              "      <th>petal_length</th>\n",
              "      <th>petal_width</th>\n",
              "      <th>species</th>\n",
              "    </tr>\n",
              "  </thead>\n",
              "  <tbody>\n",
              "    <tr>\n",
              "      <th>0</th>\n",
              "      <td>5.1</td>\n",
              "      <td>3.5</td>\n",
              "      <td>1.4</td>\n",
              "      <td>0.2</td>\n",
              "      <td>Iris-setosa</td>\n",
              "    </tr>\n",
              "    <tr>\n",
              "      <th>1</th>\n",
              "      <td>4.9</td>\n",
              "      <td>3.0</td>\n",
              "      <td>1.4</td>\n",
              "      <td>0.2</td>\n",
              "      <td>Iris-setosa</td>\n",
              "    </tr>\n",
              "    <tr>\n",
              "      <th>2</th>\n",
              "      <td>4.7</td>\n",
              "      <td>3.2</td>\n",
              "      <td>1.3</td>\n",
              "      <td>0.2</td>\n",
              "      <td>Iris-setosa</td>\n",
              "    </tr>\n",
              "    <tr>\n",
              "      <th>3</th>\n",
              "      <td>4.6</td>\n",
              "      <td>3.1</td>\n",
              "      <td>1.5</td>\n",
              "      <td>0.2</td>\n",
              "      <td>Iris-setosa</td>\n",
              "    </tr>\n",
              "    <tr>\n",
              "      <th>4</th>\n",
              "      <td>5.0</td>\n",
              "      <td>3.6</td>\n",
              "      <td>1.4</td>\n",
              "      <td>0.2</td>\n",
              "      <td>Iris-setosa</td>\n",
              "    </tr>\n",
              "    <tr>\n",
              "      <th>...</th>\n",
              "      <td>...</td>\n",
              "      <td>...</td>\n",
              "      <td>...</td>\n",
              "      <td>...</td>\n",
              "      <td>...</td>\n",
              "    </tr>\n",
              "    <tr>\n",
              "      <th>145</th>\n",
              "      <td>6.7</td>\n",
              "      <td>3.0</td>\n",
              "      <td>5.2</td>\n",
              "      <td>2.3</td>\n",
              "      <td>Iris-virginica</td>\n",
              "    </tr>\n",
              "    <tr>\n",
              "      <th>146</th>\n",
              "      <td>6.3</td>\n",
              "      <td>2.5</td>\n",
              "      <td>5.0</td>\n",
              "      <td>1.9</td>\n",
              "      <td>Iris-virginica</td>\n",
              "    </tr>\n",
              "    <tr>\n",
              "      <th>147</th>\n",
              "      <td>6.5</td>\n",
              "      <td>3.0</td>\n",
              "      <td>5.2</td>\n",
              "      <td>2.0</td>\n",
              "      <td>Iris-virginica</td>\n",
              "    </tr>\n",
              "    <tr>\n",
              "      <th>148</th>\n",
              "      <td>6.2</td>\n",
              "      <td>3.4</td>\n",
              "      <td>5.4</td>\n",
              "      <td>2.3</td>\n",
              "      <td>Iris-virginica</td>\n",
              "    </tr>\n",
              "    <tr>\n",
              "      <th>149</th>\n",
              "      <td>5.9</td>\n",
              "      <td>3.0</td>\n",
              "      <td>5.1</td>\n",
              "      <td>1.8</td>\n",
              "      <td>Iris-virginica</td>\n",
              "    </tr>\n",
              "  </tbody>\n",
              "</table>\n",
              "<p>150 rows × 5 columns</p>\n",
              "</div>\n",
              "      <button class=\"colab-df-convert\" onclick=\"convertToInteractive('df-906ea60b-fbd5-42fa-b13a-0df2e77d2908')\"\n",
              "              title=\"Convert this dataframe to an interactive table.\"\n",
              "              style=\"display:none;\">\n",
              "        \n",
              "  <svg xmlns=\"http://www.w3.org/2000/svg\" height=\"24px\"viewBox=\"0 0 24 24\"\n",
              "       width=\"24px\">\n",
              "    <path d=\"M0 0h24v24H0V0z\" fill=\"none\"/>\n",
              "    <path d=\"M18.56 5.44l.94 2.06.94-2.06 2.06-.94-2.06-.94-.94-2.06-.94 2.06-2.06.94zm-11 1L8.5 8.5l.94-2.06 2.06-.94-2.06-.94L8.5 2.5l-.94 2.06-2.06.94zm10 10l.94 2.06.94-2.06 2.06-.94-2.06-.94-.94-2.06-.94 2.06-2.06.94z\"/><path d=\"M17.41 7.96l-1.37-1.37c-.4-.4-.92-.59-1.43-.59-.52 0-1.04.2-1.43.59L10.3 9.45l-7.72 7.72c-.78.78-.78 2.05 0 2.83L4 21.41c.39.39.9.59 1.41.59.51 0 1.02-.2 1.41-.59l7.78-7.78 2.81-2.81c.8-.78.8-2.07 0-2.86zM5.41 20L4 18.59l7.72-7.72 1.47 1.35L5.41 20z\"/>\n",
              "  </svg>\n",
              "      </button>\n",
              "      \n",
              "  <style>\n",
              "    .colab-df-container {\n",
              "      display:flex;\n",
              "      flex-wrap:wrap;\n",
              "      gap: 12px;\n",
              "    }\n",
              "\n",
              "    .colab-df-convert {\n",
              "      background-color: #E8F0FE;\n",
              "      border: none;\n",
              "      border-radius: 50%;\n",
              "      cursor: pointer;\n",
              "      display: none;\n",
              "      fill: #1967D2;\n",
              "      height: 32px;\n",
              "      padding: 0 0 0 0;\n",
              "      width: 32px;\n",
              "    }\n",
              "\n",
              "    .colab-df-convert:hover {\n",
              "      background-color: #E2EBFA;\n",
              "      box-shadow: 0px 1px 2px rgba(60, 64, 67, 0.3), 0px 1px 3px 1px rgba(60, 64, 67, 0.15);\n",
              "      fill: #174EA6;\n",
              "    }\n",
              "\n",
              "    [theme=dark] .colab-df-convert {\n",
              "      background-color: #3B4455;\n",
              "      fill: #D2E3FC;\n",
              "    }\n",
              "\n",
              "    [theme=dark] .colab-df-convert:hover {\n",
              "      background-color: #434B5C;\n",
              "      box-shadow: 0px 1px 3px 1px rgba(0, 0, 0, 0.15);\n",
              "      filter: drop-shadow(0px 1px 2px rgba(0, 0, 0, 0.3));\n",
              "      fill: #FFFFFF;\n",
              "    }\n",
              "  </style>\n",
              "\n",
              "      <script>\n",
              "        const buttonEl =\n",
              "          document.querySelector('#df-906ea60b-fbd5-42fa-b13a-0df2e77d2908 button.colab-df-convert');\n",
              "        buttonEl.style.display =\n",
              "          google.colab.kernel.accessAllowed ? 'block' : 'none';\n",
              "\n",
              "        async function convertToInteractive(key) {\n",
              "          const element = document.querySelector('#df-906ea60b-fbd5-42fa-b13a-0df2e77d2908');\n",
              "          const dataTable =\n",
              "            await google.colab.kernel.invokeFunction('convertToInteractive',\n",
              "                                                     [key], {});\n",
              "          if (!dataTable) return;\n",
              "\n",
              "          const docLinkHtml = 'Like what you see? Visit the ' +\n",
              "            '<a target=\"_blank\" href=https://colab.research.google.com/notebooks/data_table.ipynb>data table notebook</a>'\n",
              "            + ' to learn more about interactive tables.';\n",
              "          element.innerHTML = '';\n",
              "          dataTable['output_type'] = 'display_data';\n",
              "          await google.colab.output.renderOutput(dataTable, element);\n",
              "          const docLink = document.createElement('div');\n",
              "          docLink.innerHTML = docLinkHtml;\n",
              "          element.appendChild(docLink);\n",
              "        }\n",
              "      </script>\n",
              "    </div>\n",
              "  </div>\n",
              "  "
            ]
          },
          "metadata": {},
          "execution_count": 45
        }
      ]
    },
    {
      "cell_type": "code",
      "source": [
        "from sklearn.datasets import load_iris\n",
        "\n",
        "iris = load_iris()\n",
        "\n",
        "print(iris.data)\n",
        "print(iris.target)"
      ],
      "metadata": {
        "colab": {
          "base_uri": "https://localhost:8080/"
        },
        "id": "C3OkO9Vevmrs",
        "outputId": "04e3ae3c-a2b0-40e7-ec72-7d2b976cefb9"
      },
      "execution_count": 46,
      "outputs": [
        {
          "output_type": "stream",
          "name": "stdout",
          "text": [
            "[[5.1 3.5 1.4 0.2]\n",
            " [4.9 3.  1.4 0.2]\n",
            " [4.7 3.2 1.3 0.2]\n",
            " [4.6 3.1 1.5 0.2]\n",
            " [5.  3.6 1.4 0.2]\n",
            " [5.4 3.9 1.7 0.4]\n",
            " [4.6 3.4 1.4 0.3]\n",
            " [5.  3.4 1.5 0.2]\n",
            " [4.4 2.9 1.4 0.2]\n",
            " [4.9 3.1 1.5 0.1]\n",
            " [5.4 3.7 1.5 0.2]\n",
            " [4.8 3.4 1.6 0.2]\n",
            " [4.8 3.  1.4 0.1]\n",
            " [4.3 3.  1.1 0.1]\n",
            " [5.8 4.  1.2 0.2]\n",
            " [5.7 4.4 1.5 0.4]\n",
            " [5.4 3.9 1.3 0.4]\n",
            " [5.1 3.5 1.4 0.3]\n",
            " [5.7 3.8 1.7 0.3]\n",
            " [5.1 3.8 1.5 0.3]\n",
            " [5.4 3.4 1.7 0.2]\n",
            " [5.1 3.7 1.5 0.4]\n",
            " [4.6 3.6 1.  0.2]\n",
            " [5.1 3.3 1.7 0.5]\n",
            " [4.8 3.4 1.9 0.2]\n",
            " [5.  3.  1.6 0.2]\n",
            " [5.  3.4 1.6 0.4]\n",
            " [5.2 3.5 1.5 0.2]\n",
            " [5.2 3.4 1.4 0.2]\n",
            " [4.7 3.2 1.6 0.2]\n",
            " [4.8 3.1 1.6 0.2]\n",
            " [5.4 3.4 1.5 0.4]\n",
            " [5.2 4.1 1.5 0.1]\n",
            " [5.5 4.2 1.4 0.2]\n",
            " [4.9 3.1 1.5 0.2]\n",
            " [5.  3.2 1.2 0.2]\n",
            " [5.5 3.5 1.3 0.2]\n",
            " [4.9 3.6 1.4 0.1]\n",
            " [4.4 3.  1.3 0.2]\n",
            " [5.1 3.4 1.5 0.2]\n",
            " [5.  3.5 1.3 0.3]\n",
            " [4.5 2.3 1.3 0.3]\n",
            " [4.4 3.2 1.3 0.2]\n",
            " [5.  3.5 1.6 0.6]\n",
            " [5.1 3.8 1.9 0.4]\n",
            " [4.8 3.  1.4 0.3]\n",
            " [5.1 3.8 1.6 0.2]\n",
            " [4.6 3.2 1.4 0.2]\n",
            " [5.3 3.7 1.5 0.2]\n",
            " [5.  3.3 1.4 0.2]\n",
            " [7.  3.2 4.7 1.4]\n",
            " [6.4 3.2 4.5 1.5]\n",
            " [6.9 3.1 4.9 1.5]\n",
            " [5.5 2.3 4.  1.3]\n",
            " [6.5 2.8 4.6 1.5]\n",
            " [5.7 2.8 4.5 1.3]\n",
            " [6.3 3.3 4.7 1.6]\n",
            " [4.9 2.4 3.3 1. ]\n",
            " [6.6 2.9 4.6 1.3]\n",
            " [5.2 2.7 3.9 1.4]\n",
            " [5.  2.  3.5 1. ]\n",
            " [5.9 3.  4.2 1.5]\n",
            " [6.  2.2 4.  1. ]\n",
            " [6.1 2.9 4.7 1.4]\n",
            " [5.6 2.9 3.6 1.3]\n",
            " [6.7 3.1 4.4 1.4]\n",
            " [5.6 3.  4.5 1.5]\n",
            " [5.8 2.7 4.1 1. ]\n",
            " [6.2 2.2 4.5 1.5]\n",
            " [5.6 2.5 3.9 1.1]\n",
            " [5.9 3.2 4.8 1.8]\n",
            " [6.1 2.8 4.  1.3]\n",
            " [6.3 2.5 4.9 1.5]\n",
            " [6.1 2.8 4.7 1.2]\n",
            " [6.4 2.9 4.3 1.3]\n",
            " [6.6 3.  4.4 1.4]\n",
            " [6.8 2.8 4.8 1.4]\n",
            " [6.7 3.  5.  1.7]\n",
            " [6.  2.9 4.5 1.5]\n",
            " [5.7 2.6 3.5 1. ]\n",
            " [5.5 2.4 3.8 1.1]\n",
            " [5.5 2.4 3.7 1. ]\n",
            " [5.8 2.7 3.9 1.2]\n",
            " [6.  2.7 5.1 1.6]\n",
            " [5.4 3.  4.5 1.5]\n",
            " [6.  3.4 4.5 1.6]\n",
            " [6.7 3.1 4.7 1.5]\n",
            " [6.3 2.3 4.4 1.3]\n",
            " [5.6 3.  4.1 1.3]\n",
            " [5.5 2.5 4.  1.3]\n",
            " [5.5 2.6 4.4 1.2]\n",
            " [6.1 3.  4.6 1.4]\n",
            " [5.8 2.6 4.  1.2]\n",
            " [5.  2.3 3.3 1. ]\n",
            " [5.6 2.7 4.2 1.3]\n",
            " [5.7 3.  4.2 1.2]\n",
            " [5.7 2.9 4.2 1.3]\n",
            " [6.2 2.9 4.3 1.3]\n",
            " [5.1 2.5 3.  1.1]\n",
            " [5.7 2.8 4.1 1.3]\n",
            " [6.3 3.3 6.  2.5]\n",
            " [5.8 2.7 5.1 1.9]\n",
            " [7.1 3.  5.9 2.1]\n",
            " [6.3 2.9 5.6 1.8]\n",
            " [6.5 3.  5.8 2.2]\n",
            " [7.6 3.  6.6 2.1]\n",
            " [4.9 2.5 4.5 1.7]\n",
            " [7.3 2.9 6.3 1.8]\n",
            " [6.7 2.5 5.8 1.8]\n",
            " [7.2 3.6 6.1 2.5]\n",
            " [6.5 3.2 5.1 2. ]\n",
            " [6.4 2.7 5.3 1.9]\n",
            " [6.8 3.  5.5 2.1]\n",
            " [5.7 2.5 5.  2. ]\n",
            " [5.8 2.8 5.1 2.4]\n",
            " [6.4 3.2 5.3 2.3]\n",
            " [6.5 3.  5.5 1.8]\n",
            " [7.7 3.8 6.7 2.2]\n",
            " [7.7 2.6 6.9 2.3]\n",
            " [6.  2.2 5.  1.5]\n",
            " [6.9 3.2 5.7 2.3]\n",
            " [5.6 2.8 4.9 2. ]\n",
            " [7.7 2.8 6.7 2. ]\n",
            " [6.3 2.7 4.9 1.8]\n",
            " [6.7 3.3 5.7 2.1]\n",
            " [7.2 3.2 6.  1.8]\n",
            " [6.2 2.8 4.8 1.8]\n",
            " [6.1 3.  4.9 1.8]\n",
            " [6.4 2.8 5.6 2.1]\n",
            " [7.2 3.  5.8 1.6]\n",
            " [7.4 2.8 6.1 1.9]\n",
            " [7.9 3.8 6.4 2. ]\n",
            " [6.4 2.8 5.6 2.2]\n",
            " [6.3 2.8 5.1 1.5]\n",
            " [6.1 2.6 5.6 1.4]\n",
            " [7.7 3.  6.1 2.3]\n",
            " [6.3 3.4 5.6 2.4]\n",
            " [6.4 3.1 5.5 1.8]\n",
            " [6.  3.  4.8 1.8]\n",
            " [6.9 3.1 5.4 2.1]\n",
            " [6.7 3.1 5.6 2.4]\n",
            " [6.9 3.1 5.1 2.3]\n",
            " [5.8 2.7 5.1 1.9]\n",
            " [6.8 3.2 5.9 2.3]\n",
            " [6.7 3.3 5.7 2.5]\n",
            " [6.7 3.  5.2 2.3]\n",
            " [6.3 2.5 5.  1.9]\n",
            " [6.5 3.  5.2 2. ]\n",
            " [6.2 3.4 5.4 2.3]\n",
            " [5.9 3.  5.1 1.8]]\n",
            "[0 0 0 0 0 0 0 0 0 0 0 0 0 0 0 0 0 0 0 0 0 0 0 0 0 0 0 0 0 0 0 0 0 0 0 0 0\n",
            " 0 0 0 0 0 0 0 0 0 0 0 0 0 1 1 1 1 1 1 1 1 1 1 1 1 1 1 1 1 1 1 1 1 1 1 1 1\n",
            " 1 1 1 1 1 1 1 1 1 1 1 1 1 1 1 1 1 1 1 1 1 1 1 1 1 1 2 2 2 2 2 2 2 2 2 2 2\n",
            " 2 2 2 2 2 2 2 2 2 2 2 2 2 2 2 2 2 2 2 2 2 2 2 2 2 2 2 2 2 2 2 2 2 2 2 2 2\n",
            " 2 2]\n"
          ]
        }
      ]
    },
    {
      "cell_type": "code",
      "source": [
        "\n",
        "#X= iris['data']\n",
        "#y= iris['target']\n",
        "#df=pd.DataFrame(X,columns= iris['feature_names'])\n",
        "#df.head()\n"
      ],
      "metadata": {
        "id": "jwuUtr4BIUHd"
      },
      "execution_count": 47,
      "outputs": []
    },
    {
      "cell_type": "code",
      "source": [
        "#y"
      ],
      "metadata": {
        "id": "GRQiw5IlJnIp"
      },
      "execution_count": 48,
      "outputs": []
    },
    {
      "cell_type": "markdown",
      "source": [
        "Splitting the dataset"
      ],
      "metadata": {
        "id": "FoXvbdy4LFnO"
      }
    },
    {
      "cell_type": "code",
      "source": [
        "X=df.iloc[:,:4].values\n",
        "y=df['species']"
      ],
      "metadata": {
        "id": "If4NNLByLA_e"
      },
      "execution_count": 49,
      "outputs": []
    },
    {
      "cell_type": "code",
      "source": [
        "X"
      ],
      "metadata": {
        "colab": {
          "base_uri": "https://localhost:8080/"
        },
        "id": "HmMg4hdqLf-z",
        "outputId": "de306279-dcee-4531-bcf1-5a7825ddc338"
      },
      "execution_count": 50,
      "outputs": [
        {
          "output_type": "execute_result",
          "data": {
            "text/plain": [
              "array([[5.1, 3.5, 1.4, 0.2],\n",
              "       [4.9, 3. , 1.4, 0.2],\n",
              "       [4.7, 3.2, 1.3, 0.2],\n",
              "       [4.6, 3.1, 1.5, 0.2],\n",
              "       [5. , 3.6, 1.4, 0.2],\n",
              "       [5.4, 3.9, 1.7, 0.4],\n",
              "       [4.6, 3.4, 1.4, 0.3],\n",
              "       [5. , 3.4, 1.5, 0.2],\n",
              "       [4.4, 2.9, 1.4, 0.2],\n",
              "       [4.9, 3.1, 1.5, 0.1],\n",
              "       [5.4, 3.7, 1.5, 0.2],\n",
              "       [4.8, 3.4, 1.6, 0.2],\n",
              "       [4.8, 3. , 1.4, 0.1],\n",
              "       [4.3, 3. , 1.1, 0.1],\n",
              "       [5.8, 4. , 1.2, 0.2],\n",
              "       [5.7, 4.4, 1.5, 0.4],\n",
              "       [5.4, 3.9, 1.3, 0.4],\n",
              "       [5.1, 3.5, 1.4, 0.3],\n",
              "       [5.7, 3.8, 1.7, 0.3],\n",
              "       [5.1, 3.8, 1.5, 0.3],\n",
              "       [5.4, 3.4, 1.7, 0.2],\n",
              "       [5.1, 3.7, 1.5, 0.4],\n",
              "       [4.6, 3.6, 1. , 0.2],\n",
              "       [5.1, 3.3, 1.7, 0.5],\n",
              "       [4.8, 3.4, 1.9, 0.2],\n",
              "       [5. , 3. , 1.6, 0.2],\n",
              "       [5. , 3.4, 1.6, 0.4],\n",
              "       [5.2, 3.5, 1.5, 0.2],\n",
              "       [5.2, 3.4, 1.4, 0.2],\n",
              "       [4.7, 3.2, 1.6, 0.2],\n",
              "       [4.8, 3.1, 1.6, 0.2],\n",
              "       [5.4, 3.4, 1.5, 0.4],\n",
              "       [5.2, 4.1, 1.5, 0.1],\n",
              "       [5.5, 4.2, 1.4, 0.2],\n",
              "       [4.9, 3.1, 1.5, 0.1],\n",
              "       [5. , 3.2, 1.2, 0.2],\n",
              "       [5.5, 3.5, 1.3, 0.2],\n",
              "       [4.9, 3.1, 1.5, 0.1],\n",
              "       [4.4, 3. , 1.3, 0.2],\n",
              "       [5.1, 3.4, 1.5, 0.2],\n",
              "       [5. , 3.5, 1.3, 0.3],\n",
              "       [4.5, 2.3, 1.3, 0.3],\n",
              "       [4.4, 3.2, 1.3, 0.2],\n",
              "       [5. , 3.5, 1.6, 0.6],\n",
              "       [5.1, 3.8, 1.9, 0.4],\n",
              "       [4.8, 3. , 1.4, 0.3],\n",
              "       [5.1, 3.8, 1.6, 0.2],\n",
              "       [4.6, 3.2, 1.4, 0.2],\n",
              "       [5.3, 3.7, 1.5, 0.2],\n",
              "       [5. , 3.3, 1.4, 0.2],\n",
              "       [7. , 3.2, 4.7, 1.4],\n",
              "       [6.4, 3.2, 4.5, 1.5],\n",
              "       [6.9, 3.1, 4.9, 1.5],\n",
              "       [5.5, 2.3, 4. , 1.3],\n",
              "       [6.5, 2.8, 4.6, 1.5],\n",
              "       [5.7, 2.8, 4.5, 1.3],\n",
              "       [6.3, 3.3, 4.7, 1.6],\n",
              "       [4.9, 2.4, 3.3, 1. ],\n",
              "       [6.6, 2.9, 4.6, 1.3],\n",
              "       [5.2, 2.7, 3.9, 1.4],\n",
              "       [5. , 2. , 3.5, 1. ],\n",
              "       [5.9, 3. , 4.2, 1.5],\n",
              "       [6. , 2.2, 4. , 1. ],\n",
              "       [6.1, 2.9, 4.7, 1.4],\n",
              "       [5.6, 2.9, 3.6, 1.3],\n",
              "       [6.7, 3.1, 4.4, 1.4],\n",
              "       [5.6, 3. , 4.5, 1.5],\n",
              "       [5.8, 2.7, 4.1, 1. ],\n",
              "       [6.2, 2.2, 4.5, 1.5],\n",
              "       [5.6, 2.5, 3.9, 1.1],\n",
              "       [5.9, 3.2, 4.8, 1.8],\n",
              "       [6.1, 2.8, 4. , 1.3],\n",
              "       [6.3, 2.5, 4.9, 1.5],\n",
              "       [6.1, 2.8, 4.7, 1.2],\n",
              "       [6.4, 2.9, 4.3, 1.3],\n",
              "       [6.6, 3. , 4.4, 1.4],\n",
              "       [6.8, 2.8, 4.8, 1.4],\n",
              "       [6.7, 3. , 5. , 1.7],\n",
              "       [6. , 2.9, 4.5, 1.5],\n",
              "       [5.7, 2.6, 3.5, 1. ],\n",
              "       [5.5, 2.4, 3.8, 1.1],\n",
              "       [5.5, 2.4, 3.7, 1. ],\n",
              "       [5.8, 2.7, 3.9, 1.2],\n",
              "       [6. , 2.7, 5.1, 1.6],\n",
              "       [5.4, 3. , 4.5, 1.5],\n",
              "       [6. , 3.4, 4.5, 1.6],\n",
              "       [6.7, 3.1, 4.7, 1.5],\n",
              "       [6.3, 2.3, 4.4, 1.3],\n",
              "       [5.6, 3. , 4.1, 1.3],\n",
              "       [5.5, 2.5, 4. , 1.3],\n",
              "       [5.5, 2.6, 4.4, 1.2],\n",
              "       [6.1, 3. , 4.6, 1.4],\n",
              "       [5.8, 2.6, 4. , 1.2],\n",
              "       [5. , 2.3, 3.3, 1. ],\n",
              "       [5.6, 2.7, 4.2, 1.3],\n",
              "       [5.7, 3. , 4.2, 1.2],\n",
              "       [5.7, 2.9, 4.2, 1.3],\n",
              "       [6.2, 2.9, 4.3, 1.3],\n",
              "       [5.1, 2.5, 3. , 1.1],\n",
              "       [5.7, 2.8, 4.1, 1.3],\n",
              "       [6.3, 3.3, 6. , 2.5],\n",
              "       [5.8, 2.7, 5.1, 1.9],\n",
              "       [7.1, 3. , 5.9, 2.1],\n",
              "       [6.3, 2.9, 5.6, 1.8],\n",
              "       [6.5, 3. , 5.8, 2.2],\n",
              "       [7.6, 3. , 6.6, 2.1],\n",
              "       [4.9, 2.5, 4.5, 1.7],\n",
              "       [7.3, 2.9, 6.3, 1.8],\n",
              "       [6.7, 2.5, 5.8, 1.8],\n",
              "       [7.2, 3.6, 6.1, 2.5],\n",
              "       [6.5, 3.2, 5.1, 2. ],\n",
              "       [6.4, 2.7, 5.3, 1.9],\n",
              "       [6.8, 3. , 5.5, 2.1],\n",
              "       [5.7, 2.5, 5. , 2. ],\n",
              "       [5.8, 2.8, 5.1, 2.4],\n",
              "       [6.4, 3.2, 5.3, 2.3],\n",
              "       [6.5, 3. , 5.5, 1.8],\n",
              "       [7.7, 3.8, 6.7, 2.2],\n",
              "       [7.7, 2.6, 6.9, 2.3],\n",
              "       [6. , 2.2, 5. , 1.5],\n",
              "       [6.9, 3.2, 5.7, 2.3],\n",
              "       [5.6, 2.8, 4.9, 2. ],\n",
              "       [7.7, 2.8, 6.7, 2. ],\n",
              "       [6.3, 2.7, 4.9, 1.8],\n",
              "       [6.7, 3.3, 5.7, 2.1],\n",
              "       [7.2, 3.2, 6. , 1.8],\n",
              "       [6.2, 2.8, 4.8, 1.8],\n",
              "       [6.1, 3. , 4.9, 1.8],\n",
              "       [6.4, 2.8, 5.6, 2.1],\n",
              "       [7.2, 3. , 5.8, 1.6],\n",
              "       [7.4, 2.8, 6.1, 1.9],\n",
              "       [7.9, 3.8, 6.4, 2. ],\n",
              "       [6.4, 2.8, 5.6, 2.2],\n",
              "       [6.3, 2.8, 5.1, 1.5],\n",
              "       [6.1, 2.6, 5.6, 1.4],\n",
              "       [7.7, 3. , 6.1, 2.3],\n",
              "       [6.3, 3.4, 5.6, 2.4],\n",
              "       [6.4, 3.1, 5.5, 1.8],\n",
              "       [6. , 3. , 4.8, 1.8],\n",
              "       [6.9, 3.1, 5.4, 2.1],\n",
              "       [6.7, 3.1, 5.6, 2.4],\n",
              "       [6.9, 3.1, 5.1, 2.3],\n",
              "       [5.8, 2.7, 5.1, 1.9],\n",
              "       [6.8, 3.2, 5.9, 2.3],\n",
              "       [6.7, 3.3, 5.7, 2.5],\n",
              "       [6.7, 3. , 5.2, 2.3],\n",
              "       [6.3, 2.5, 5. , 1.9],\n",
              "       [6.5, 3. , 5.2, 2. ],\n",
              "       [6.2, 3.4, 5.4, 2.3],\n",
              "       [5.9, 3. , 5.1, 1.8]])"
            ]
          },
          "metadata": {},
          "execution_count": 50
        }
      ]
    },
    {
      "cell_type": "code",
      "source": [
        "y"
      ],
      "metadata": {
        "colab": {
          "base_uri": "https://localhost:8080/"
        },
        "id": "DrHnnK5XLo9b",
        "outputId": "5ff143d4-48a8-4e33-ad0c-1cd92daa6e7f"
      },
      "execution_count": 51,
      "outputs": [
        {
          "output_type": "execute_result",
          "data": {
            "text/plain": [
              "0         Iris-setosa\n",
              "1         Iris-setosa\n",
              "2         Iris-setosa\n",
              "3         Iris-setosa\n",
              "4         Iris-setosa\n",
              "            ...      \n",
              "145    Iris-virginica\n",
              "146    Iris-virginica\n",
              "147    Iris-virginica\n",
              "148    Iris-virginica\n",
              "149    Iris-virginica\n",
              "Name: species, Length: 150, dtype: object"
            ]
          },
          "metadata": {},
          "execution_count": 51
        }
      ]
    },
    {
      "cell_type": "markdown",
      "source": [
        "Training and testing of data"
      ],
      "metadata": {
        "id": "yjVczZXVTrP6"
      }
    },
    {
      "cell_type": "code",
      "source": [
        "from sklearn.model_selection import train_test_split"
      ],
      "metadata": {
        "id": "FwaNtLwfNOSe"
      },
      "execution_count": 52,
      "outputs": []
    },
    {
      "cell_type": "code",
      "source": [
        "X_train,X_test,y_train,y_test= train_test_split(X,y, test_size=0.20, random_state=2)"
      ],
      "metadata": {
        "id": "4nnD-qadNaze"
      },
      "execution_count": 53,
      "outputs": []
    },
    {
      "cell_type": "code",
      "source": [
        "X_test"
      ],
      "metadata": {
        "colab": {
          "base_uri": "https://localhost:8080/"
        },
        "id": "AHUX1mDyOUr6",
        "outputId": "87cf0f93-7d27-498f-af54-087700ec1c47"
      },
      "execution_count": 54,
      "outputs": [
        {
          "output_type": "execute_result",
          "data": {
            "text/plain": [
              "array([[4.6, 3.4, 1.4, 0.3],\n",
              "       [4.6, 3.1, 1.5, 0.2],\n",
              "       [5.7, 2.5, 5. , 2. ],\n",
              "       [4.8, 3. , 1.4, 0.1],\n",
              "       [4.8, 3.4, 1.9, 0.2],\n",
              "       [7.2, 3. , 5.8, 1.6],\n",
              "       [5. , 3. , 1.6, 0.2],\n",
              "       [6.7, 2.5, 5.8, 1.8],\n",
              "       [6.4, 2.8, 5.6, 2.1],\n",
              "       [4.8, 3. , 1.4, 0.3],\n",
              "       [5.3, 3.7, 1.5, 0.2],\n",
              "       [4.4, 3.2, 1.3, 0.2],\n",
              "       [5. , 3.2, 1.2, 0.2],\n",
              "       [5.4, 3.9, 1.7, 0.4],\n",
              "       [6. , 3.4, 4.5, 1.6],\n",
              "       [6.5, 2.8, 4.6, 1.5],\n",
              "       [4.5, 2.3, 1.3, 0.3],\n",
              "       [5.7, 2.9, 4.2, 1.3],\n",
              "       [6.7, 3.3, 5.7, 2.5],\n",
              "       [5.5, 2.5, 4. , 1.3],\n",
              "       [6.7, 3. , 5. , 1.7],\n",
              "       [6.4, 2.9, 4.3, 1.3],\n",
              "       [6.4, 3.2, 5.3, 2.3],\n",
              "       [5.6, 2.7, 4.2, 1.3],\n",
              "       [6.3, 2.3, 4.4, 1.3],\n",
              "       [4.7, 3.2, 1.6, 0.2],\n",
              "       [4.7, 3.2, 1.3, 0.2],\n",
              "       [6.1, 3. , 4.9, 1.8],\n",
              "       [5.1, 3.8, 1.9, 0.4],\n",
              "       [7.2, 3.2, 6. , 1.8]])"
            ]
          },
          "metadata": {},
          "execution_count": 54
        }
      ]
    },
    {
      "cell_type": "code",
      "source": [
        "X_train"
      ],
      "metadata": {
        "colab": {
          "base_uri": "https://localhost:8080/"
        },
        "id": "KGNYYM6COXUS",
        "outputId": "f1502c1a-4052-4cbf-8b54-de70351c99c5"
      },
      "execution_count": 55,
      "outputs": [
        {
          "output_type": "execute_result",
          "data": {
            "text/plain": [
              "array([[6.2, 2.8, 4.8, 1.8],\n",
              "       [5.1, 3.3, 1.7, 0.5],\n",
              "       [5.6, 2.9, 3.6, 1.3],\n",
              "       [7.7, 3.8, 6.7, 2.2],\n",
              "       [5.4, 3. , 4.5, 1.5],\n",
              "       [5.8, 4. , 1.2, 0.2],\n",
              "       [6.4, 2.8, 5.6, 2.2],\n",
              "       [6.1, 3. , 4.6, 1.4],\n",
              "       [5.5, 2.3, 4. , 1.3],\n",
              "       [6.9, 3.1, 5.1, 2.3],\n",
              "       [6. , 2.9, 4.5, 1.5],\n",
              "       [6.2, 2.9, 4.3, 1.3],\n",
              "       [6.8, 3.2, 5.9, 2.3],\n",
              "       [5. , 2.3, 3.3, 1. ],\n",
              "       [4.8, 3.4, 1.6, 0.2],\n",
              "       [6.1, 2.6, 5.6, 1.4],\n",
              "       [5.2, 3.4, 1.4, 0.2],\n",
              "       [6.7, 3.1, 4.4, 1.4],\n",
              "       [5.1, 3.5, 1.4, 0.2],\n",
              "       [5.2, 3.5, 1.5, 0.2],\n",
              "       [5.5, 3.5, 1.3, 0.2],\n",
              "       [4.9, 2.5, 4.5, 1.7],\n",
              "       [6.2, 3.4, 5.4, 2.3],\n",
              "       [7.9, 3.8, 6.4, 2. ],\n",
              "       [5.4, 3.4, 1.7, 0.2],\n",
              "       [6.7, 3.1, 5.6, 2.4],\n",
              "       [6.3, 3.4, 5.6, 2.4],\n",
              "       [7.6, 3. , 6.6, 2.1],\n",
              "       [6. , 2.2, 5. , 1.5],\n",
              "       [4.3, 3. , 1.1, 0.1],\n",
              "       [4.8, 3.1, 1.6, 0.2],\n",
              "       [5.8, 2.7, 5.1, 1.9],\n",
              "       [5.7, 2.8, 4.1, 1.3],\n",
              "       [5.2, 2.7, 3.9, 1.4],\n",
              "       [7.7, 3. , 6.1, 2.3],\n",
              "       [6.3, 2.7, 4.9, 1.8],\n",
              "       [6.1, 2.8, 4. , 1.3],\n",
              "       [5.1, 3.7, 1.5, 0.4],\n",
              "       [5.7, 2.8, 4.5, 1.3],\n",
              "       [5.4, 3.9, 1.3, 0.4],\n",
              "       [5.8, 2.8, 5.1, 2.4],\n",
              "       [5.8, 2.6, 4. , 1.2],\n",
              "       [5.1, 2.5, 3. , 1.1],\n",
              "       [5.7, 3.8, 1.7, 0.3],\n",
              "       [5.5, 2.4, 3.7, 1. ],\n",
              "       [5.9, 3. , 4.2, 1.5],\n",
              "       [6.7, 3.1, 4.7, 1.5],\n",
              "       [7.7, 2.8, 6.7, 2. ],\n",
              "       [4.9, 3. , 1.4, 0.2],\n",
              "       [6.3, 3.3, 4.7, 1.6],\n",
              "       [5.1, 3.8, 1.5, 0.3],\n",
              "       [5.8, 2.7, 3.9, 1.2],\n",
              "       [6.9, 3.2, 5.7, 2.3],\n",
              "       [4.9, 3.1, 1.5, 0.1],\n",
              "       [5. , 2. , 3.5, 1. ],\n",
              "       [4.9, 3.1, 1.5, 0.1],\n",
              "       [5. , 3.5, 1.3, 0.3],\n",
              "       [5.4, 3.7, 1.5, 0.2],\n",
              "       [6.8, 3. , 5.5, 2.1],\n",
              "       [6.3, 3.3, 6. , 2.5],\n",
              "       [5. , 3.4, 1.6, 0.4],\n",
              "       [5.2, 4.1, 1.5, 0.1],\n",
              "       [6.3, 2.5, 5. , 1.9],\n",
              "       [7.7, 2.6, 6.9, 2.3],\n",
              "       [6. , 2.2, 4. , 1. ],\n",
              "       [7.2, 3.6, 6.1, 2.5],\n",
              "       [4.9, 2.4, 3.3, 1. ],\n",
              "       [6.1, 2.8, 4.7, 1.2],\n",
              "       [6.5, 3. , 5.2, 2. ],\n",
              "       [5.1, 3.5, 1.4, 0.3],\n",
              "       [7.4, 2.8, 6.1, 1.9],\n",
              "       [5.9, 3. , 5.1, 1.8],\n",
              "       [6.4, 2.7, 5.3, 1.9],\n",
              "       [4.4, 2.9, 1.4, 0.2],\n",
              "       [5.6, 2.8, 4.9, 2. ],\n",
              "       [5.1, 3.4, 1.5, 0.2],\n",
              "       [5. , 3.3, 1.4, 0.2],\n",
              "       [5.7, 2.6, 3.5, 1. ],\n",
              "       [6.9, 3.1, 5.4, 2.1],\n",
              "       [5.5, 2.6, 4.4, 1.2],\n",
              "       [6.3, 2.8, 5.1, 1.5],\n",
              "       [7. , 3.2, 4.7, 1.4],\n",
              "       [6.8, 2.8, 4.8, 1.4],\n",
              "       [6.5, 3.2, 5.1, 2. ],\n",
              "       [6.9, 3.1, 4.9, 1.5],\n",
              "       [5.5, 2.4, 3.8, 1.1],\n",
              "       [5.6, 3. , 4.5, 1.5],\n",
              "       [6. , 3. , 4.8, 1.8],\n",
              "       [6. , 2.7, 5.1, 1.6],\n",
              "       [5.8, 2.7, 5.1, 1.9],\n",
              "       [5.9, 3.2, 4.8, 1.8],\n",
              "       [5.1, 3.8, 1.6, 0.2],\n",
              "       [6.2, 2.2, 4.5, 1.5],\n",
              "       [5.6, 3. , 4.1, 1.3],\n",
              "       [5.6, 2.5, 3.9, 1.1],\n",
              "       [5.8, 2.7, 4.1, 1. ],\n",
              "       [6.4, 3.1, 5.5, 1.8],\n",
              "       [6.6, 2.9, 4.6, 1.3],\n",
              "       [5.5, 4.2, 1.4, 0.2],\n",
              "       [4.4, 3. , 1.3, 0.2],\n",
              "       [6.3, 2.9, 5.6, 1.8],\n",
              "       [6.4, 3.2, 4.5, 1.5],\n",
              "       [7.3, 2.9, 6.3, 1.8],\n",
              "       [5. , 3.6, 1.4, 0.2],\n",
              "       [7.1, 3. , 5.9, 2.1],\n",
              "       [4.9, 3.1, 1.5, 0.1],\n",
              "       [6.5, 3. , 5.5, 1.8],\n",
              "       [6.7, 3.3, 5.7, 2.1],\n",
              "       [5.4, 3.4, 1.5, 0.4],\n",
              "       [6.1, 2.9, 4.7, 1.4],\n",
              "       [4.6, 3.2, 1.4, 0.2],\n",
              "       [6.7, 3. , 5.2, 2.3],\n",
              "       [5.7, 3. , 4.2, 1.2],\n",
              "       [5. , 3.4, 1.5, 0.2],\n",
              "       [6.5, 3. , 5.8, 2.2],\n",
              "       [6.6, 3. , 4.4, 1.4],\n",
              "       [5. , 3.5, 1.6, 0.6],\n",
              "       [4.6, 3.6, 1. , 0.2],\n",
              "       [6.3, 2.5, 4.9, 1.5],\n",
              "       [5.7, 4.4, 1.5, 0.4]])"
            ]
          },
          "metadata": {},
          "execution_count": 55
        }
      ]
    },
    {
      "cell_type": "code",
      "source": [
        "y_train"
      ],
      "metadata": {
        "colab": {
          "base_uri": "https://localhost:8080/"
        },
        "id": "IxRiZxhkOcuq",
        "outputId": "8a5a2f69-ac2a-483b-dd58-9d285301fb06"
      },
      "execution_count": 56,
      "outputs": [
        {
          "output_type": "execute_result",
          "data": {
            "text/plain": [
              "126     Iris-virginica\n",
              "23         Iris-setosa\n",
              "64     Iris-versicolor\n",
              "117     Iris-virginica\n",
              "84     Iris-versicolor\n",
              "            ...       \n",
              "75     Iris-versicolor\n",
              "43         Iris-setosa\n",
              "22         Iris-setosa\n",
              "72     Iris-versicolor\n",
              "15         Iris-setosa\n",
              "Name: species, Length: 120, dtype: object"
            ]
          },
          "metadata": {},
          "execution_count": 56
        }
      ]
    },
    {
      "cell_type": "code",
      "source": [
        "y_test"
      ],
      "metadata": {
        "colab": {
          "base_uri": "https://localhost:8080/"
        },
        "id": "kk9YaA_ROfYJ",
        "outputId": "2c6e76cb-bccf-41ff-bc79-d3d981653671"
      },
      "execution_count": 57,
      "outputs": [
        {
          "output_type": "execute_result",
          "data": {
            "text/plain": [
              "6          Iris-setosa\n",
              "3          Iris-setosa\n",
              "113     Iris-virginica\n",
              "12         Iris-setosa\n",
              "24         Iris-setosa\n",
              "129     Iris-virginica\n",
              "25         Iris-setosa\n",
              "108     Iris-virginica\n",
              "128     Iris-virginica\n",
              "45         Iris-setosa\n",
              "48         Iris-setosa\n",
              "42         Iris-setosa\n",
              "35         Iris-setosa\n",
              "5          Iris-setosa\n",
              "85     Iris-versicolor\n",
              "54     Iris-versicolor\n",
              "41         Iris-setosa\n",
              "96     Iris-versicolor\n",
              "144     Iris-virginica\n",
              "89     Iris-versicolor\n",
              "77     Iris-versicolor\n",
              "74     Iris-versicolor\n",
              "115     Iris-virginica\n",
              "94     Iris-versicolor\n",
              "87     Iris-versicolor\n",
              "29         Iris-setosa\n",
              "2          Iris-setosa\n",
              "127     Iris-virginica\n",
              "44         Iris-setosa\n",
              "125     Iris-virginica\n",
              "Name: species, dtype: object"
            ]
          },
          "metadata": {},
          "execution_count": 57
        }
      ]
    },
    {
      "cell_type": "markdown",
      "source": [
        "Scaling of dependent values (normalization)"
      ],
      "metadata": {
        "id": "vnQsPAn1MoXv"
      }
    },
    {
      "cell_type": "code",
      "source": [
        "from sklearn.preprocessing import StandardScaler"
      ],
      "metadata": {
        "id": "TEIEr0XsMiK4"
      },
      "execution_count": 58,
      "outputs": []
    },
    {
      "cell_type": "code",
      "source": [
        "sc=StandardScaler()\n",
        "X_train=sc.fit_transform(X_train)\n",
        "X_test= sc.fit_transform(X_test)"
      ],
      "metadata": {
        "id": "h1UpscVWNExu"
      },
      "execution_count": 59,
      "outputs": []
    },
    {
      "cell_type": "code",
      "source": [
        "X_train"
      ],
      "metadata": {
        "colab": {
          "base_uri": "https://localhost:8080/"
        },
        "id": "FFlB3spTORKT",
        "outputId": "860971cf-12b6-4a65-f309-39a1f35a4cd1"
      },
      "execution_count": 60,
      "outputs": [
        {
          "output_type": "execute_result",
          "data": {
            "text/plain": [
              "array([[ 0.37346331, -0.57939897,  0.54063457,  0.74225155],\n",
              "       [-0.9845851 ,  0.55297687, -1.24706373, -0.99115027],\n",
              "       [-0.36729037, -0.3529238 , -0.15137768,  0.07555854],\n",
              "       [ 2.22534751,  1.68535271,  1.63632062,  1.27560595],\n",
              "       [-0.61420826, -0.12644864,  0.36763151,  0.34223574],\n",
              "       [-0.12037247,  2.13830304, -1.53540217, -1.39116607],\n",
              "       [ 0.6203812 , -0.57939897,  1.00197606,  1.27560595],\n",
              "       [ 0.25000437, -0.12644864,  0.42529919,  0.20889714],\n",
              "       [-0.49074931, -1.71177481,  0.07929307,  0.07555854],\n",
              "       [ 1.23767594,  0.10002653,  0.71363763,  1.40894455],\n",
              "       [ 0.12654542, -0.3529238 ,  0.36763151,  0.34223574],\n",
              "       [ 0.37346331, -0.3529238 ,  0.25229613,  0.07555854],\n",
              "       [ 1.11421699,  0.3265017 ,  1.17497913,  1.40894455],\n",
              "       [-1.10804404, -1.71177481, -0.32438074, -0.32445726],\n",
              "       [-1.35496194,  0.77945204, -1.30473142, -1.39116607],\n",
              "       [ 0.25000437, -1.03234931,  1.00197606,  0.20889714],\n",
              "       [-0.86112615,  0.77945204, -1.4200668 , -1.39116607],\n",
              "       [ 0.99075804,  0.10002653,  0.30996382,  0.20889714],\n",
              "       [-0.9845851 ,  1.0059272 , -1.4200668 , -1.39116607],\n",
              "       [-0.86112615,  1.0059272 , -1.36239911, -1.39116607],\n",
              "       [-0.49074931,  1.0059272 , -1.47773448, -1.39116607],\n",
              "       [-1.23150299, -1.25882447,  0.36763151,  0.60891295],\n",
              "       [ 0.37346331,  0.77945204,  0.88664069,  1.40894455],\n",
              "       [ 2.4722654 ,  1.68535271,  1.46331756,  1.00892875],\n",
              "       [-0.61420826,  0.77945204, -1.24706373, -1.39116607],\n",
              "       [ 0.99075804,  0.10002653,  1.00197606,  1.54228315],\n",
              "       [ 0.49692226,  0.77945204,  1.00197606,  1.54228315],\n",
              "       [ 2.10188856, -0.12644864,  1.57865294,  1.14226735],\n",
              "       [ 0.12654542, -1.93824998,  0.65596994,  0.34223574],\n",
              "       [-1.97225667, -0.12644864, -1.59306986, -1.52450467],\n",
              "       [-1.35496194,  0.10002653, -1.30473142, -1.39116607],\n",
              "       [-0.12037247, -0.80587414,  0.71363763,  0.87559015],\n",
              "       [-0.24383142, -0.57939897,  0.13696076,  0.07555854],\n",
              "       [-0.86112615, -0.80587414,  0.02162538,  0.20889714],\n",
              "       [ 2.22534751, -0.12644864,  1.2903145 ,  1.40894455],\n",
              "       [ 0.49692226, -0.80587414,  0.59830225,  0.74225155],\n",
              "       [ 0.25000437, -0.57939897,  0.07929307,  0.07555854],\n",
              "       [-0.9845851 ,  1.45887754, -1.36239911, -1.12448887],\n",
              "       [-0.24383142, -0.57939897,  0.36763151,  0.07555854],\n",
              "       [-0.61420826,  1.91182787, -1.47773448, -1.12448887],\n",
              "       [-0.12037247, -0.57939897,  0.71363763,  1.54228315],\n",
              "       [-0.12037247, -1.03234931,  0.07929307, -0.05778006],\n",
              "       [-0.9845851 , -1.25882447, -0.4973838 , -0.19111866],\n",
              "       [-0.24383142,  1.68535271, -1.24706373, -1.25782747],\n",
              "       [-0.49074931, -1.48529964, -0.09370999, -0.32445726],\n",
              "       [ 0.00308647, -0.12644864,  0.19462844,  0.34223574],\n",
              "       [ 0.99075804,  0.10002653,  0.48296688,  0.34223574],\n",
              "       [ 2.22534751, -0.57939897,  1.63632062,  1.00892875],\n",
              "       [-1.23150299, -0.12644864, -1.4200668 , -1.39116607],\n",
              "       [ 0.49692226,  0.55297687,  0.48296688,  0.47557434],\n",
              "       [-0.9845851 ,  1.68535271, -1.36239911, -1.25782747],\n",
              "       [-0.12037247, -0.80587414,  0.02162538, -0.05778006],\n",
              "       [ 1.23767594,  0.3265017 ,  1.05964375,  1.40894455],\n",
              "       [-1.23150299,  0.10002653, -1.36239911, -1.52450467],\n",
              "       [-1.10804404, -2.39120031, -0.20904537, -0.32445726],\n",
              "       [-1.23150299,  0.10002653, -1.36239911, -1.52450467],\n",
              "       [-1.10804404,  1.0059272 , -1.47773448, -1.25782747],\n",
              "       [-0.61420826,  1.45887754, -1.36239911, -1.39116607],\n",
              "       [ 1.11421699, -0.12644864,  0.94430838,  1.14226735],\n",
              "       [ 0.49692226,  0.55297687,  1.23264681,  1.67562175],\n",
              "       [-1.10804404,  0.77945204, -1.30473142, -1.12448887],\n",
              "       [-0.86112615,  2.36477821, -1.36239911, -1.52450467],\n",
              "       [ 0.49692226, -1.25882447,  0.65596994,  0.87559015],\n",
              "       [ 2.22534751, -1.03234931,  1.751656  ,  1.40894455],\n",
              "       [ 0.12654542, -1.93824998,  0.07929307, -0.32445726],\n",
              "       [ 1.60805278,  1.23240237,  1.2903145 ,  1.67562175],\n",
              "       [-1.23150299, -1.48529964, -0.32438074, -0.32445726],\n",
              "       [ 0.25000437, -0.57939897,  0.48296688, -0.05778006],\n",
              "       [ 0.74384015, -0.12644864,  0.77130532,  1.00892875],\n",
              "       [-0.9845851 ,  1.0059272 , -1.4200668 , -1.25782747],\n",
              "       [ 1.85497067, -0.57939897,  1.2903145 ,  0.87559015],\n",
              "       [ 0.00308647, -0.12644864,  0.71363763,  0.74225155],\n",
              "       [ 0.6203812 , -0.80587414,  0.828973  ,  0.87559015],\n",
              "       [-1.84879772, -0.3529238 , -1.4200668 , -1.39116607],\n",
              "       [-0.36729037, -0.57939897,  0.59830225,  1.00892875],\n",
              "       [-0.9845851 ,  0.77945204, -1.36239911, -1.39116607],\n",
              "       [-1.10804404,  0.55297687, -1.4200668 , -1.39116607],\n",
              "       [-0.24383142, -1.03234931, -0.20904537, -0.32445726],\n",
              "       [ 1.23767594,  0.10002653,  0.88664069,  1.14226735],\n",
              "       [-0.49074931, -1.03234931,  0.30996382, -0.05778006],\n",
              "       [ 0.49692226, -0.57939897,  0.71363763,  0.34223574],\n",
              "       [ 1.36113488,  0.3265017 ,  0.48296688,  0.20889714],\n",
              "       [ 1.11421699, -0.57939897,  0.54063457,  0.20889714],\n",
              "       [ 0.74384015,  0.3265017 ,  0.71363763,  1.00892875],\n",
              "       [ 1.23767594,  0.10002653,  0.59830225,  0.34223574],\n",
              "       [-0.49074931, -1.48529964, -0.0360423 , -0.19111866],\n",
              "       [-0.36729037, -0.12644864,  0.36763151,  0.34223574],\n",
              "       [ 0.12654542, -0.12644864,  0.54063457,  0.74225155],\n",
              "       [ 0.12654542, -0.80587414,  0.71363763,  0.47557434],\n",
              "       [-0.12037247, -0.80587414,  0.71363763,  0.87559015],\n",
              "       [ 0.00308647,  0.3265017 ,  0.54063457,  0.74225155],\n",
              "       [-0.9845851 ,  1.68535271, -1.30473142, -1.39116607],\n",
              "       [ 0.37346331, -1.93824998,  0.36763151,  0.34223574],\n",
              "       [-0.36729037, -0.12644864,  0.13696076,  0.07555854],\n",
              "       [-0.36729037, -1.25882447,  0.02162538, -0.19111866],\n",
              "       [-0.12037247, -0.80587414,  0.13696076, -0.32445726],\n",
              "       [ 0.6203812 ,  0.10002653,  0.94430838,  0.74225155],\n",
              "       [ 0.8672991 , -0.3529238 ,  0.42529919,  0.07555854],\n",
              "       [-0.49074931,  2.59125338, -1.4200668 , -1.39116607],\n",
              "       [-1.84879772, -0.12644864, -1.47773448, -1.39116607],\n",
              "       [ 0.49692226, -0.3529238 ,  1.00197606,  0.74225155],\n",
              "       [ 0.6203812 ,  0.3265017 ,  0.36763151,  0.34223574],\n",
              "       [ 1.73151172, -0.3529238 ,  1.40564987,  0.74225155],\n",
              "       [-1.10804404,  1.23240237, -1.4200668 , -1.39116607],\n",
              "       [ 1.48459383, -0.12644864,  1.17497913,  1.14226735],\n",
              "       [-1.23150299,  0.10002653, -1.36239911, -1.52450467],\n",
              "       [ 0.74384015, -0.12644864,  0.94430838,  0.74225155],\n",
              "       [ 0.99075804,  0.55297687,  1.05964375,  1.14226735],\n",
              "       [-0.61420826,  0.77945204, -1.36239911, -1.12448887],\n",
              "       [ 0.25000437, -0.3529238 ,  0.48296688,  0.20889714],\n",
              "       [-1.60187983,  0.3265017 , -1.4200668 , -1.39116607],\n",
              "       [ 0.99075804, -0.12644864,  0.77130532,  1.40894455],\n",
              "       [-0.24383142, -0.12644864,  0.19462844, -0.05778006],\n",
              "       [-1.10804404,  0.77945204, -1.36239911, -1.39116607],\n",
              "       [ 0.74384015, -0.12644864,  1.11731144,  1.27560595],\n",
              "       [ 0.8672991 , -0.12644864,  0.30996382,  0.20889714],\n",
              "       [-1.10804404,  1.0059272 , -1.30473142, -0.85781167],\n",
              "       [-1.60187983,  1.23240237, -1.65073754, -1.39116607],\n",
              "       [ 0.49692226, -1.25882447,  0.59830225,  0.34223574],\n",
              "       [-0.24383142,  3.04420371, -1.36239911, -1.12448887]])"
            ]
          },
          "metadata": {},
          "execution_count": 60
        }
      ]
    },
    {
      "cell_type": "markdown",
      "source": [
        "Fitting naive bayes classification to training set with linear kernel"
      ],
      "metadata": {
        "id": "VKBXD5HhRuCL"
      }
    },
    {
      "cell_type": "code",
      "source": [
        "from sklearn.naive_bayes import GaussianNB"
      ],
      "metadata": {
        "id": "AdZAByZdOkNS"
      },
      "execution_count": 61,
      "outputs": []
    },
    {
      "cell_type": "code",
      "source": [
        "classifier=GaussianNB()\n",
        "classifier.fit(X_train,y_train)"
      ],
      "metadata": {
        "colab": {
          "base_uri": "https://localhost:8080/"
        },
        "id": "54GeWCzXPg-g",
        "outputId": "63d087a9-eac4-4435-e10d-b351b3b2d632"
      },
      "execution_count": 62,
      "outputs": [
        {
          "output_type": "execute_result",
          "data": {
            "text/plain": [
              "GaussianNB()"
            ]
          },
          "metadata": {},
          "execution_count": 62
        }
      ]
    },
    {
      "cell_type": "markdown",
      "source": [
        "Predicting the test set results"
      ],
      "metadata": {
        "id": "zmItfMs_R99X"
      }
    },
    {
      "cell_type": "code",
      "source": [
        "y_pred=classifier.predict(X_test)\n",
        "print(y_pred)"
      ],
      "metadata": {
        "colab": {
          "base_uri": "https://localhost:8080/"
        },
        "id": "b_zeKCY-P1TH",
        "outputId": "340e7af9-341f-4eb6-f0ce-8bb155ccd6e8"
      },
      "execution_count": 63,
      "outputs": [
        {
          "output_type": "stream",
          "name": "stdout",
          "text": [
            "['Iris-setosa' 'Iris-setosa' 'Iris-virginica' 'Iris-setosa'\n",
            " 'Iris-versicolor' 'Iris-virginica' 'Iris-setosa' 'Iris-virginica'\n",
            " 'Iris-virginica' 'Iris-setosa' 'Iris-setosa' 'Iris-setosa' 'Iris-setosa'\n",
            " 'Iris-setosa' 'Iris-virginica' 'Iris-virginica' 'Iris-setosa'\n",
            " 'Iris-versicolor' 'Iris-virginica' 'Iris-versicolor' 'Iris-virginica'\n",
            " 'Iris-versicolor' 'Iris-virginica' 'Iris-versicolor' 'Iris-versicolor'\n",
            " 'Iris-setosa' 'Iris-setosa' 'Iris-virginica' 'Iris-versicolor'\n",
            " 'Iris-virginica']\n"
          ]
        }
      ]
    },
    {
      "cell_type": "markdown",
      "source": [
        "Accuracy of the model"
      ],
      "metadata": {
        "id": "yn17zhrJSDDX"
      }
    },
    {
      "cell_type": "code",
      "source": [
        "from sklearn.metrics import accuracy_score\n",
        "from sklearn.metrics import precision_score, recall_score\n",
        "score=accuracy_score(y_test,y_pred)\n",
        "print(score)"
      ],
      "metadata": {
        "colab": {
          "base_uri": "https://localhost:8080/"
        },
        "id": "YMNvA7yJQnBr",
        "outputId": "90a792a8-4479-480a-b659-2c1b14ad2639"
      },
      "execution_count": 64,
      "outputs": [
        {
          "output_type": "stream",
          "name": "stdout",
          "text": [
            "0.8333333333333334\n"
          ]
        }
      ]
    },
    {
      "cell_type": "markdown",
      "source": [
        "Making the confusion matrix"
      ],
      "metadata": {
        "id": "Gwyghna7SinG"
      }
    },
    {
      "cell_type": "code",
      "source": [
        "from sklearn.metrics import confusion_matrix\n",
        "cm=confusion_matrix(y_test,y_pred)\n",
        "print(cm)\n"
      ],
      "metadata": {
        "colab": {
          "base_uri": "https://localhost:8080/"
        },
        "id": "CHC-r1ncSlrF",
        "outputId": "58389b15-b672-484c-e19e-792d85914f9f"
      },
      "execution_count": 65,
      "outputs": [
        {
          "output_type": "stream",
          "name": "stdout",
          "text": [
            "[[12  2  0]\n",
            " [ 0  5  3]\n",
            " [ 0  0  8]]\n"
          ]
        }
      ]
    },
    {
      "cell_type": "markdown",
      "source": [
        "Displaying the confusion matrix"
      ],
      "metadata": {
        "id": "-vSonSfjTRuK"
      }
    },
    {
      "cell_type": "code",
      "source": [
        "from sklearn.metrics import ConfusionMatrixDisplay\n",
        "cmd=ConfusionMatrixDisplay(cm).plot()"
      ],
      "metadata": {
        "colab": {
          "base_uri": "https://localhost:8080/",
          "height": 283
        },
        "id": "UTJ3d7eZTAUT",
        "outputId": "2dcfa9bb-bb4c-4423-fb30-fad221ff2e1a"
      },
      "execution_count": 66,
      "outputs": [
        {
          "output_type": "display_data",
          "data": {
            "text/plain": [
              "<Figure size 432x288 with 2 Axes>"
            ],
            "image/png": "[encoded data removed]"
          },
          "metadata": {
            "needs_background": "light"
          }
        }
      ]
    },
    {
      "cell_type": "markdown",
      "source": [
        "For new data or live data which is added later"
      ],
      "metadata": {
        "id": "819Vui8GWQoi"
      }
    },
    {
      "cell_type": "code",
      "source": [
        "X_new=[[3.5,3.1,1.8,0.25]]\n",
        "X_new_sc=sc.fit_transform(X_new)\n",
        "y_pred=classifier.predict(X_new_sc)\n",
        "y_pred[0]"
      ],
      "metadata": {
        "colab": {
          "base_uri": "https://localhost:8080/",
          "height": 35
        },
        "id": "x5KnbgrwVVs9",
        "outputId": "7ce7dd88-cdea-4791-a636-8af71393ea06"
      },
      "execution_count": 67,
      "outputs": [
        {
          "output_type": "execute_result",
          "data": {
            "text/plain": [
              "'Iris-versicolor'"
            ],
            "application/vnd.google.colaboratory.intrinsic+json": {
              "type": "string"
            }
          },
          "metadata": {},
          "execution_count": 67
        }
      ]
    }
  ]
}